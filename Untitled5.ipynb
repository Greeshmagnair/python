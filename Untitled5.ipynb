{
  "nbformat": 4,
  "nbformat_minor": 0,
  "metadata": {
    "colab": {
      "name": "Untitled5.ipynb",
      "provenance": [],
      "collapsed_sections": [],
      "toc_visible": true,
      "authorship_tag": "ABX9TyOe9PNHyqtBKkl/pX2Crgqz",
      "include_colab_link": true
    },
    "kernelspec": {
      "name": "python3",
      "display_name": "Python 3"
    }
  },
  "cells": [
    {
      "cell_type": "markdown",
      "metadata": {
        "id": "view-in-github",
        "colab_type": "text"
      },
      "source": [
        "<a href=\"https://colab.research.google.com/github/Greeshmagnair/python/blob/master/Untitled5.ipynb\" target=\"_parent\"><img src=\"https://colab.research.google.com/assets/colab-badge.svg\" alt=\"Open In Colab\"/></a>"
      ]
    },
    {
      "cell_type": "markdown",
      "metadata": {
        "id": "QRlRXpZRyezj"
      },
      "source": [
        "2.Write a program which accepts the radius of a circle and compute the area."
      ]
    },
    {
      "cell_type": "code",
      "metadata": {
        "id": "FynbzoZRyaBS"
      },
      "source": [
        "from math import pi\n",
        "r=float(input(\"Enter the radius of the circle\"))\n",
        "area=pi*r**2\n",
        "print(\"The area of circleis:\",area)"
      ],
      "execution_count": null,
      "outputs": []
    },
    {
      "cell_type": "markdown",
      "metadata": {
        "id": "WSzegZbTydfR"
      },
      "source": [
        "3.Write a program to find the occurrence of a given substring in a string"
      ]
    },
    {
      "cell_type": "code",
      "metadata": {
        "id": "M40hb9zgzEVU"
      },
      "source": [
        "string =  \"red\",\"blue\",\"green\"\n",
        "word=\"green\" in string\n",
        "print(word)\n",
        "x=string.find(\"green\")\n",
        "print(x)"
      ],
      "execution_count": null,
      "outputs": []
    },
    {
      "cell_type": "markdown",
      "metadata": {
        "id": "WnFe4GsHz5ed"
      },
      "source": [
        "4.Write a function that takes two lists and returns True if they have at least two common members "
      ]
    },
    {
      "cell_type": "code",
      "metadata": {
        "id": "1Mm_mrqXz-HJ"
      },
      "source": [
        "def common_data(list1,list2):\n",
        "  result= False\n",
        "  for x in list1:\n",
        "    for y in  list2:\n",
        "      if x==y:\n",
        "        result= True\n",
        "        return result\n",
        "print(common_data([1,2,3,4],[5,6,7,8],[9,10,11,12,13]))\n",
        "print(common_data([1,2,3,4],[5,6,7,8],[10,11,12,13]))\n"
      ],
      "execution_count": null,
      "outputs": []
    },
    {
      "cell_type": "markdown",
      "metadata": {
        "id": "R3wWL0Sc0_Ic"
      },
      "source": [
        "5.Write a program to check if a given number is a prime number or not?"
      ]
    },
    {
      "cell_type": "code",
      "metadata": {
        "id": "NquRhY681E5B"
      },
      "source": [
        "def num:\n",
        "  if num > 1:\n",
        "    for i in range(2,num):\n",
        "      if(num%i)==0:\n",
        "        print(num,\"is not a prime number\")\n",
        "        print(i,\"times\",num||i,\"is\",num)\n",
        "        break\n",
        "        else:\n",
        "          print(num,\"is a prime number\")"
      ],
      "execution_count": null,
      "outputs": []
    },
    {
      "cell_type": "markdown",
      "metadata": {
        "id": "RUcNEzN12Fjc"
      },
      "source": [
        "6.b. Write a program to search an element in a list"
      ]
    },
    {
      "cell_type": "code",
      "metadata": {
        "id": "jkOnpf142M1x"
      },
      "source": [
        "def search(list,platform):\n",
        "  for i in range(len(list)):\n",
        "    if list[i]==platform:\n",
        "      return True\n",
        "      return False\n",
        "steam=[\"netflix\",\"youtube\",\"sportify\",\"disney\"]\n",
        "platform='netflix'\n",
        "if search(streaming,platform):\n",
        "  print(\"platform is found\")\n",
        "  else:\n",
        "    print(\"platform is not found\")"
      ],
      "execution_count": null,
      "outputs": []
    },
    {
      "cell_type": "markdown",
      "metadata": {
        "id": "o5bRJ0jG4Jxs"
      },
      "source": [
        "7.Write a Python program to reverse a string and print whether its palindrome or not "
      ]
    },
    {
      "cell_type": "code",
      "metadata": {
        "id": "0cNJnvjC4LRC"
      },
      "source": [
        "def string(str1):\n",
        "  string=input(\"enter the string:\")\n",
        "  str 1=\"\"\n",
        "  for i in string:\n",
        "    str 1=i+str 1\n",
        "    print(\"string in reverse order:\",str 1)\n",
        "    if(string== str 1):\n",
        "      print(\"This string is palindrome\")\n",
        "      else:\n",
        "        print(\"this string is not plaindrome\")"
      ],
      "execution_count": null,
      "outputs": []
    }
  ]
}